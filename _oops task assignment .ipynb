{
 "cells": [
  {
   "cell_type": "markdown",
   "id": "df355f8f-e651-465d-8c11-c7a154996890",
   "metadata": {},
   "source": [
    " ### Q1  Create a vehicle class with an init method having instance variables as name_of_vehicle, max_speed and average_of_vehicle."
   ]
  },
  {
   "cell_type": "code",
   "execution_count": 1,
   "id": "5e9b6a1a-fc25-4751-a0da-f2aca97b2560",
   "metadata": {},
   "outputs": [],
   "source": [
    "class vehicle:\n",
    "    \n",
    "    def __init__(self,name_of_vehicle,max_speed,average_of_vehicle):\n",
    "        self.name_of_vehicle=name_of_vehicle\n",
    "        self.max_speed=max_speed\n",
    "        self.average_of_vehicle=average_of_vehicle\n",
    "        \n",
    "        \n",
    "    def vehicle_details(self):\n",
    "        return self.name_of_vehicle , self.max_speed , self.average_of_vehicle"
   ]
  },
  {
   "cell_type": "code",
   "execution_count": 2,
   "id": "32999a49-c536-438b-864b-42d6d6888c20",
   "metadata": {},
   "outputs": [],
   "source": [
    "vehicle_info=vehicle(\"BMW\" , 500 , 90)"
   ]
  },
  {
   "cell_type": "code",
   "execution_count": 3,
   "id": "fe5ed124-280d-4532-a5f8-69a41a1c32e2",
   "metadata": {},
   "outputs": [
    {
     "data": {
      "text/plain": [
       "'BMW'"
      ]
     },
     "execution_count": 3,
     "metadata": {},
     "output_type": "execute_result"
    }
   ],
   "source": [
    "vehicle_info.name_of_vehicle"
   ]
  },
  {
   "cell_type": "code",
   "execution_count": 4,
   "id": "3b2407ff-6924-48be-b17a-7661f2a0a2a2",
   "metadata": {},
   "outputs": [
    {
     "data": {
      "text/plain": [
       "500"
      ]
     },
     "execution_count": 4,
     "metadata": {},
     "output_type": "execute_result"
    }
   ],
   "source": [
    "vehicle_info.max_speed"
   ]
  },
  {
   "cell_type": "code",
   "execution_count": 5,
   "id": "a0aeea43-6fad-44e6-9417-d7d43c42795c",
   "metadata": {},
   "outputs": [
    {
     "data": {
      "text/plain": [
       "90"
      ]
     },
     "execution_count": 5,
     "metadata": {},
     "output_type": "execute_result"
    }
   ],
   "source": [
    "vehicle_info.average_of_vehicle"
   ]
  },
  {
   "cell_type": "code",
   "execution_count": 6,
   "id": "097000d9-7248-4cad-abd6-577c333f9440",
   "metadata": {},
   "outputs": [
    {
     "data": {
      "text/plain": [
       "('BMW', 500, 90)"
      ]
     },
     "execution_count": 6,
     "metadata": {},
     "output_type": "execute_result"
    }
   ],
   "source": [
    "vehicle_info.vehicle_details()"
   ]
  },
  {
   "cell_type": "markdown",
   "id": "ce93a7c4-476c-439a-8313-8eee142d1f49",
   "metadata": {},
   "source": [
    "### Q2. Create a child class car from the vehicle class created in Que 1, which will inherit the vehicle class.\n",
    "### Create a method named seating_capacity which takes capacity as an argument and returns the name of the vehicle and its seating capacity."
   ]
  },
  {
   "cell_type": "code",
   "execution_count": 2,
   "id": "49e90c49-a275-454b-8b8d-71d1ad057dbc",
   "metadata": {},
   "outputs": [],
   "source": [
    "class vehicle:\n",
    "    \n",
    "    def __init__(self,name_of_vehicle,max_speed,average_of_vehicle):\n",
    "        self.name_of_vehicle=name_of_vehicle\n",
    "        self.max_speed=max_speed\n",
    "        self.average_of_vehicle=average_of_vehicle\n",
    "        \n",
    "        \n",
    "    def vehicle_details(self):\n",
    "        return self.name_of_vehicle , self.max_speed , self.average_of_vehicle"
   ]
  },
  {
   "cell_type": "code",
   "execution_count": 3,
   "id": "702d0f52-f924-453d-ba9a-087138a71a90",
   "metadata": {},
   "outputs": [],
   "source": [
    "class car(vehicle):\n",
    "    \n",
    "    def __init__(self, name_of_vehicle,seating_capacity,max_speed,average_of_vehicle):\n",
    "        super().__init__(name_of_vehicle,max_speed,average_of_vehicle)\n",
    "        self.seating_capacity=seating_capacity\n",
    "       \n",
    "        \n",
    "    def get_seating_capacity(self):\n",
    "        return self.name_of_vehicle,self.seating_capacity"
   ]
  },
  {
   "cell_type": "code",
   "execution_count": 4,
   "id": "d186e881-8f43-40a6-9de4-bb4c293ad0b2",
   "metadata": {},
   "outputs": [],
   "source": [
    "car_info=car(\"BMW\",4,500,45)"
   ]
  },
  {
   "cell_type": "code",
   "execution_count": 5,
   "id": "034441f9-ac19-411d-8634-0c6c85e7909c",
   "metadata": {},
   "outputs": [
    {
     "data": {
      "text/plain": [
       "('BMW', 4)"
      ]
     },
     "execution_count": 5,
     "metadata": {},
     "output_type": "execute_result"
    }
   ],
   "source": [
    "car_info.get_seating_capacity()"
   ]
  },
  {
   "cell_type": "markdown",
   "id": "9864858b-f100-4a7b-a44d-d8aa2649deb8",
   "metadata": {},
   "source": [
    "### Q3. What is multiple inheritance? Write a python code to demonstrate multiple inheritance."
   ]
  },
  {
   "cell_type": "markdown",
   "id": "70b9fe31-3ccf-4bb6-824f-65065af38d92",
   "metadata": {},
   "source": [
    "When property of parent class and child class can be inherited the property(simultaneously) by the another the class"
   ]
  },
  {
   "cell_type": "code",
   "execution_count": 73,
   "id": "cc85c594-3e51-4115-94e5-745e59d66e74",
   "metadata": {},
   "outputs": [],
   "source": [
    "class indian_brand:\n",
    "    \n",
    "    def boAt(self):\n",
    "        return \"Aman gupta was a co-founder\""
   ]
  },
  {
   "cell_type": "code",
   "execution_count": 74,
   "id": "3016966e-32d6-461d-892e-6a789208999c",
   "metadata": {},
   "outputs": [],
   "source": [
    "class indian_brand1:\n",
    "    \n",
    "    def lenskart(self):\n",
    "        return \"Piyush bansal was a founder\""
   ]
  },
  {
   "cell_type": "code",
   "execution_count": 85,
   "id": "320d7b08-b63e-4518-b73a-fff01c78c733",
   "metadata": {},
   "outputs": [],
   "source": [
    "class indian_brand2(indian_brand,indian_brand1):\n",
    "    pass  "
   ]
  },
  {
   "cell_type": "code",
   "execution_count": 86,
   "id": "a9c61c87-dec1-41fb-9dba-d3bd3b7d6789",
   "metadata": {},
   "outputs": [],
   "source": [
    "brand=indian_brand2()"
   ]
  },
  {
   "cell_type": "code",
   "execution_count": 89,
   "id": "898a4298-e5b2-42de-b412-cf6c45635e6d",
   "metadata": {},
   "outputs": [
    {
     "data": {
      "text/plain": [
       "'Aman gupta was a co-founder'"
      ]
     },
     "execution_count": 89,
     "metadata": {},
     "output_type": "execute_result"
    }
   ],
   "source": [
    "brand.boAt()"
   ]
  },
  {
   "cell_type": "code",
   "execution_count": 88,
   "id": "f2c46c98-a233-453d-81e2-88c5a113977d",
   "metadata": {},
   "outputs": [
    {
     "data": {
      "text/plain": [
       "'Piyush bansal was a founder'"
      ]
     },
     "execution_count": 88,
     "metadata": {},
     "output_type": "execute_result"
    }
   ],
   "source": [
    "brand.lenskart()"
   ]
  },
  {
   "cell_type": "markdown",
   "id": "0cabb814-835f-44d2-b933-b8ce93895925",
   "metadata": {},
   "source": [
    "### Q4. What are getter and setter in python? Create a class and create a getter and a setter method in this class."
   ]
  },
  {
   "cell_type": "markdown",
   "id": "9c2441ee-94d5-431d-a42c-6ecad6c3fd5f",
   "metadata": {},
   "source": [
    "Getter function is used to access the private and protected variable in an object\n",
    "\n",
    "setter function is use to set and modify the varaible in an object"
   ]
  },
  {
   "cell_type": "code",
   "execution_count": 38,
   "id": "91925007-2ad6-4b7e-99b2-d1959a8448af",
   "metadata": {},
   "outputs": [],
   "source": [
    "class person():\n",
    "    \n",
    "    def __init__(self,name,age):\n",
    "        self._name=name\n",
    "        self._age=age\n",
    "        \n",
    "    def display(self):\n",
    "        return f'{ self.get_name()} {self.get_age()}'\n",
    "    \n",
    "    \n",
    "    def set_name(self,name):\n",
    "        if isinstance(name,str):\n",
    "            self._name=name\n",
    "        else:\n",
    "            raise typeError\n",
    "            \n",
    "            \n",
    "    def get_name(self):\n",
    "         return self._name\n",
    "        \n",
    "    \n",
    "    def set_age(self,age):\n",
    "        if isinstance(age,int):\n",
    "            self._age=age\n",
    "        else:\n",
    "            raise typeError\n",
    "            \n",
    "          \n",
    "    def get_age(self):\n",
    "        return self._age\n",
    "            \n",
    "            \n",
    "                   "
   ]
  },
  {
   "cell_type": "code",
   "execution_count": 39,
   "id": "6b4e7484-973b-43dd-8b7b-748d889f705e",
   "metadata": {},
   "outputs": [],
   "source": [
    "p=person(\"anup\",18)"
   ]
  },
  {
   "cell_type": "code",
   "execution_count": 40,
   "id": "8c6734b3-3b4e-438b-a80d-91ff416a5050",
   "metadata": {},
   "outputs": [
    {
     "data": {
      "text/plain": [
       "'anup'"
      ]
     },
     "execution_count": 40,
     "metadata": {},
     "output_type": "execute_result"
    }
   ],
   "source": [
    "p.get_name()"
   ]
  },
  {
   "cell_type": "code",
   "execution_count": 41,
   "id": "6f0a5245-786b-4ce0-bd92-f5b063ca805f",
   "metadata": {},
   "outputs": [],
   "source": [
    "p.set_age(26)"
   ]
  },
  {
   "cell_type": "code",
   "execution_count": 42,
   "id": "15478d81-37cd-422d-8ec9-2ba5be9a49e8",
   "metadata": {},
   "outputs": [
    {
     "data": {
      "text/plain": [
       "26"
      ]
     },
     "execution_count": 42,
     "metadata": {},
     "output_type": "execute_result"
    }
   ],
   "source": [
    "p.get_age()"
   ]
  },
  {
   "cell_type": "code",
   "execution_count": 43,
   "id": "14f659ab-7d18-4802-b9e5-6e83c37d5b21",
   "metadata": {},
   "outputs": [
    {
     "data": {
      "text/plain": [
       "'anup 26'"
      ]
     },
     "execution_count": 43,
     "metadata": {},
     "output_type": "execute_result"
    }
   ],
   "source": [
    "p.display()"
   ]
  },
  {
   "cell_type": "markdown",
   "id": "1bb7ee34-ad36-41d7-a958-dc869d3e34b3",
   "metadata": {},
   "source": [
    "### Q5.What is method overriding in python? Write a python code to demonstrate method overriding."
   ]
  },
  {
   "cell_type": "markdown",
   "id": "f0af8afa-5576-4523-90df-574c060e522a",
   "metadata": {},
   "source": [
    "Method overriding means when we create a method(name) in sub_class  as same as the method(name) in the class,so when we call the object of sub_class so the method(name) replace by the parent class and it is known as method overriding"
   ]
  },
  {
   "cell_type": "code",
   "execution_count": 51,
   "id": "56253f14-a67e-4021-a3c4-51404c14ae75",
   "metadata": {},
   "outputs": [],
   "source": [
    "class country :\n",
    "    \n",
    "    def state(self):\n",
    "        return \"it is the state of uttar pradesh\""
   ]
  },
  {
   "cell_type": "code",
   "execution_count": 52,
   "id": "467e3362-514b-40f9-83e9-61641cc6e282",
   "metadata": {},
   "outputs": [],
   "source": [
    "class country1(country):\n",
    "    \n",
    "    def state(self):\n",
    "        return \"it is the state of maharashtra\""
   ]
  },
  {
   "cell_type": "code",
   "execution_count": 53,
   "id": "b18929cc-bf74-4953-8a8c-dfdec29542bc",
   "metadata": {},
   "outputs": [],
   "source": [
    "class country2(country):\n",
    "    \n",
    "    def state(self):\n",
    "        return \"it is the state of madhya pradesh\""
   ]
  },
  {
   "cell_type": "code",
   "execution_count": 54,
   "id": "05464fce-0508-4817-86a9-dd8e52f9c0b1",
   "metadata": {},
   "outputs": [],
   "source": [
    "Nation=country()"
   ]
  },
  {
   "cell_type": "code",
   "execution_count": 55,
   "id": "c74f8eac-a5b5-462d-ad9e-e0419492461e",
   "metadata": {},
   "outputs": [
    {
     "data": {
      "text/plain": [
       "'it is the state of uttar pradesh'"
      ]
     },
     "execution_count": 55,
     "metadata": {},
     "output_type": "execute_result"
    }
   ],
   "source": [
    "Nation.state()"
   ]
  },
  {
   "cell_type": "code",
   "execution_count": 56,
   "id": "43e3b974-4986-48fb-a8d2-673e25fae0e5",
   "metadata": {},
   "outputs": [],
   "source": [
    "Nation=country1()"
   ]
  },
  {
   "cell_type": "code",
   "execution_count": 57,
   "id": "9e48e9ed-c751-4d99-96d1-b278990947db",
   "metadata": {},
   "outputs": [
    {
     "data": {
      "text/plain": [
       "'it is the state of maharashtra'"
      ]
     },
     "execution_count": 57,
     "metadata": {},
     "output_type": "execute_result"
    }
   ],
   "source": [
    "Nation.state()"
   ]
  },
  {
   "cell_type": "code",
   "execution_count": 58,
   "id": "f3339520-3d57-4856-98f2-198cbf9f2768",
   "metadata": {},
   "outputs": [],
   "source": [
    "Nation=country2()"
   ]
  },
  {
   "cell_type": "code",
   "execution_count": 59,
   "id": "5b65fcf0-6765-4883-9bd7-b55faa8b42c5",
   "metadata": {},
   "outputs": [
    {
     "data": {
      "text/plain": [
       "'it is the state of madhya pradesh'"
      ]
     },
     "execution_count": 59,
     "metadata": {},
     "output_type": "execute_result"
    }
   ],
   "source": [
    "Nation.state()"
   ]
  },
  {
   "cell_type": "code",
   "execution_count": null,
   "id": "4d382fc2-ded7-48bd-82c1-e075f3a5d4f5",
   "metadata": {},
   "outputs": [],
   "source": []
  }
 ],
 "metadata": {
  "kernelspec": {
   "display_name": "Python 3 (ipykernel)",
   "language": "python",
   "name": "python3"
  },
  "language_info": {
   "codemirror_mode": {
    "name": "ipython",
    "version": 3
   },
   "file_extension": ".py",
   "mimetype": "text/x-python",
   "name": "python",
   "nbconvert_exporter": "python",
   "pygments_lexer": "ipython3",
   "version": "3.10.8"
  }
 },
 "nbformat": 4,
 "nbformat_minor": 5
}
